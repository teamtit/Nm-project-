
# Step 1: Create demo fake news dataset
import pandas as pd

data = {
    'text': [
        'The government passed a new health care law.',
        'Aliens have landed in New York City!',
        'Scientists discovered a new planet in the solar system.',
        'Celebrity caught in a fake scandal for publicity.',
        'NASA confirms water on the moon.',
        'You can win $1 million by clicking this link.',
    ],
    'label': ['REAL', 'FAKE', 'REAL', 'FAKE', 'REAL', 'FAKE']
}

df = pd.DataFrame(data)
df.to_csv('fake_or_real_news.csv', index=False)
